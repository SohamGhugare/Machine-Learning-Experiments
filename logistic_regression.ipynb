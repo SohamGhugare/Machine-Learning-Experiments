{
 "cells": [
  {
   "cell_type": "markdown",
   "id": "69cd1ac3",
   "metadata": {},
   "source": [
    "# LogisticRegression - Multi-class Classification\n",
    "### **Problem:** Identify the digits given in the 8x8 images\n",
    "### **Provided:** Arrays of size 8x8 for all the images\n",
    "### **Dataset used:** [sklearn.datasets.load_digits](https://scikit-learn.org/stable/modules/generated/sklearn.datasets.load_digits.html?highlight=load_digits#sklearn.datasets.load_digits)\n",
    "### **Model used:** [LogisticRegression](https://scikit-learn.org/stable/modules/generated/sklearn.linear_model.LogisticRegression.html?highlight=logisticregression#sklearn.linear_model.LogisticRegression)\n"
   ]
  },
  {
   "cell_type": "code",
   "execution_count": 2,
   "id": "79ac1bab",
   "metadata": {},
   "outputs": [],
   "source": [
    "from sklearn.datasets import load_digits\n",
    "import numpy as np\n",
    "from matplotlib import pyplot"
   ]
  },
  {
   "cell_type": "markdown",
   "id": "3198b7f5",
   "metadata": {},
   "source": [
    "We are gonna use `digits.data` as features for training the models because they have the required arrays. Then we are gonna use `digits.target` as labels for predictions because they have the actual images."
   ]
  },
  {
   "cell_type": "code",
   "execution_count": 3,
   "id": "ced1f9d1",
   "metadata": {},
   "outputs": [
    {
     "data": {
      "text/plain": [
       "['DESCR', 'data', 'feature_names', 'frame', 'images', 'target', 'target_names']"
      ]
     },
     "execution_count": 3,
     "metadata": {},
     "output_type": "execute_result"
    }
   ],
   "source": [
    "digits = load_digits()\n",
    "dir(digits)"
   ]
  },
  {
   "cell_type": "code",
   "execution_count": 4,
   "id": "ef17eec7",
   "metadata": {},
   "outputs": [
    {
     "data": {
      "text/plain": [
       "1797"
      ]
     },
     "execution_count": 4,
     "metadata": {},
     "output_type": "execute_result"
    }
   ],
   "source": [
    "len(digits.data)"
   ]
  },
  {
   "cell_type": "markdown",
   "id": "edc58126",
   "metadata": {},
   "source": [
    "This is how the individual 8x8 arrays will look like"
   ]
  },
  {
   "cell_type": "code",
   "execution_count": 5,
   "id": "1bfcd575",
   "metadata": {},
   "outputs": [
    {
     "data": {
      "text/plain": [
       "array([ 0.,  0.,  5., 13.,  9.,  1.,  0.,  0.,  0.,  0., 13., 15., 10.,\n",
       "       15.,  5.,  0.,  0.,  3., 15.,  2.,  0., 11.,  8.,  0.,  0.,  4.,\n",
       "       12.,  0.,  0.,  8.,  8.,  0.,  0.,  5.,  8.,  0.,  0.,  9.,  8.,\n",
       "        0.,  0.,  4., 11.,  0.,  1., 12.,  7.,  0.,  0.,  2., 14.,  5.,\n",
       "       10., 12.,  0.,  0.,  0.,  0.,  6., 13., 10.,  0.,  0.,  0.])"
      ]
     },
     "execution_count": 5,
     "metadata": {},
     "output_type": "execute_result"
    }
   ],
   "source": [
    "# 8x8 array which we are gonna use for training\n",
    "digits.data[0]"
   ]
  },
  {
   "cell_type": "markdown",
   "id": "0610b56e",
   "metadata": {},
   "source": [
    "This is the corresponding 8x8 target image."
   ]
  },
  {
   "cell_type": "code",
   "execution_count": 6,
   "id": "5dfdb406",
   "metadata": {},
   "outputs": [
    {
     "data": {
      "text/plain": [
       "<matplotlib.image.AxesImage at 0x7efccdc4d940>"
      ]
     },
     "execution_count": 6,
     "metadata": {},
     "output_type": "execute_result"
    },
    {
     "data": {
      "image/png": "[encoded data removed]",
      "text/plain": [
       "<Figure size 288x288 with 1 Axes>"
      ]
     },
     "metadata": {
      "needs_background": "light"
     },
     "output_type": "display_data"
    }
   ],
   "source": [
    "pyplot.matshow(digits.images[0])"
   ]
  },
  {
   "cell_type": "markdown",
   "id": "57a6a84e",
   "metadata": {},
   "source": [
    "## Splitting the data\n",
    "We are gonna use the [train_test_split](https://scikit-learn.org/stable/modules/generated/sklearn.model_selection.train_test_split.html?highlight=train%20test%20split#sklearn.model_selection.train_test_split) function to split our data into 4 different pieces.\n",
    "### Splits:\n",
    "- **X_train** will be used as \"training features\" for training the model\n",
    "- **y_train** will be used as \"training labels\" for training the model\n",
    "- **X_test** will be used as features for predicting the labels\n",
    "- **y_test** is the actual value that was supposed to be predicting\\"
   ]
  },
  {
   "cell_type": "code",
   "execution_count": 15,
   "id": "a244b2ff",
   "metadata": {},
   "outputs": [],
   "source": [
    "from sklearn.model_selection import train_test_split\n",
    "X = np.array(digits.data)\n",
    "y = np.array(digits.target)\n",
    "X_train, X_test, y_train, y_test = train_test_split(X, y, test_size=0.2)"
   ]
  },
  {
   "cell_type": "markdown",
   "id": "64036442",
   "metadata": {},
   "source": [
    "## Logistic Regression\n",
    "Logistic regression is a statistical model that in its basic form uses a logistic function to model a binary dependent variable, although many more complex extensions exist. \n",
    "[Source: Wikipedia](https://en.wikipedia.org/wiki/Logistic_regression)\n",
    "\n",
    "#### We are gonna use the [LogisticRegression](https://scikit-learn.org/stable/modules/generated/sklearn.linear_model.LogisticRegression.html?highlight=logisticregression#sklearn.linear_model.LogisticRegression) class provided by sklearn!!\n",
    "Here our model will predict/classify the test data (X_test) into digits (from 0 to 9)"
   ]
  },
  {
   "cell_type": "code",
   "execution_count": 32,
   "id": "a45efb3f",
   "metadata": {},
   "outputs": [
    {
     "name": "stdout",
     "output_type": "stream",
     "text": [
      "Prediction: 7 Actual: 7\n",
      "Prediction: 2 Actual: 2\n",
      "Prediction: 4 Actual: 4\n",
      "Prediction: 4 Actual: 4\n",
      "Prediction: 2 Actual: 8\n",
      "Prediction: 7 Actual: 7\n",
      "Prediction: 9 Actual: 9\n",
      "Prediction: 1 Actual: 1\n",
      "Prediction: 0 Actual: 0\n",
      "Prediction: 3 Actual: 3\n"
     ]
    },
    {
     "name": "stderr",
     "output_type": "stream",
     "text": [
      "/home/soham/.local/lib/python3.9/site-packages/sklearn/linear_model/_logistic.py:763: ConvergenceWarning: lbfgs failed to converge (status=1):\n",
      "STOP: TOTAL NO. of ITERATIONS REACHED LIMIT.\n",
      "\n",
      "Increase the number of iterations (max_iter) or scale the data as shown in:\n",
      "    https://scikit-learn.org/stable/modules/preprocessing.html\n",
      "Please also refer to the documentation for alternative solver options:\n",
      "    https://scikit-learn.org/stable/modules/linear_model.html#logistic-regression\n",
      "  n_iter_i = _check_optimize_result(\n"
     ]
    }
   ],
   "source": [
    "from sklearn.linear_model import LogisticRegression\n",
    "model = LogisticRegression()\n",
    "model.fit(X_train, y_train)\n",
    "predictions = model.predict(X_test)\n",
    "for x in range(10):\n",
    "    print(f\"Prediction: {predictions[x]} Actual: {y_test[x]}\")"
   ]
  },
  {
   "cell_type": "markdown",
   "id": "bc9e94ba",
   "metadata": {},
   "source": [
    "## Data pre-processing and scaling\n",
    "- If you see, theres a warning for maximum iterations in the above cell. Thats because we didn't scale and pre-process the data we had before.\n",
    "- Lets create a pipeline which will pre-process the data before passing it in the model."
   ]
  },
  {
   "cell_type": "code",
   "execution_count": 33,
   "id": "0126ee4a",
   "metadata": {},
   "outputs": [
    {
     "data": {
      "text/plain": [
       "Pipeline(steps=[('standardscaler', StandardScaler()),\n",
       "                ('logisticregression', LogisticRegression())])"
      ]
     },
     "execution_count": 33,
     "metadata": {},
     "output_type": "execute_result"
    }
   ],
   "source": [
    "from sklearn.pipeline import make_pipeline\n",
    "from sklearn.preprocessing import StandardScaler\n",
    "pipe = make_pipeline(StandardScaler(), LogisticRegression())\n",
    "pipe.fit(X_train, y_train)"
   ]
  },
  {
   "cell_type": "code",
   "execution_count": 34,
   "id": "fbf303f1",
   "metadata": {},
   "outputs": [
    {
     "name": "stdout",
     "output_type": "stream",
     "text": [
      "Prediction: 7 Actual: 7\n",
      "Prediction: 2 Actual: 2\n",
      "Prediction: 4 Actual: 4\n",
      "Prediction: 4 Actual: 4\n",
      "Prediction: 2 Actual: 8\n",
      "Prediction: 7 Actual: 7\n",
      "Prediction: 9 Actual: 9\n",
      "Prediction: 1 Actual: 1\n",
      "Prediction: 0 Actual: 0\n",
      "Prediction: 3 Actual: 3\n"
     ]
    }
   ],
   "source": [
    "pipe_predictions = pipe.predict(X_test)\n",
    "for x in range(10):\n",
    "    print(f\"Prediction: {pipe_predictions[x]} Actual: {y_test[x]}\")"
   ]
  },
  {
   "cell_type": "markdown",
   "id": "0c6ded25",
   "metadata": {},
   "source": [
    "The `accuracy_score` function returns how good our model was in predicting the digits."
   ]
  },
  {
   "cell_type": "code",
   "execution_count": 35,
   "id": "5e80dceb",
   "metadata": {},
   "outputs": [
    {
     "name": "stdout",
     "output_type": "stream",
     "text": [
      "Accuracy: 97%\n"
     ]
    }
   ],
   "source": [
    "from sklearn.metrics import accuracy_score\n",
    "print(f\"Accuracy: {round(accuracy_score(y_test, pipe_predictions)*100)}%\")"
   ]
  },
  {
   "cell_type": "markdown",
   "id": "6429b64c",
   "metadata": {},
   "source": [
    "Lets try to build a confusion matrix for checking what all values the model got wrong"
   ]
  },
  {
   "cell_type": "code",
   "execution_count": 36,
   "id": "7c095491",
   "metadata": {},
   "outputs": [
    {
     "data": {
      "text/plain": [
       "array([[43,  0,  0,  0,  0,  0,  0,  0,  0,  0],\n",
       "       [ 0, 24,  0,  0,  0,  0,  0,  0,  0,  0],\n",
       "       [ 0,  0, 44,  0,  0,  0,  0,  0,  0,  0],\n",
       "       [ 0,  0,  1, 28,  0,  1,  0,  0,  2,  0],\n",
       "       [ 0,  0,  0,  0, 30,  0,  0,  0,  0,  0],\n",
       "       [ 0,  0,  0,  0,  0, 35,  0,  0,  0,  0],\n",
       "       [ 0,  2,  0,  0,  0,  0, 39,  0,  0,  0],\n",
       "       [ 0,  0,  0,  0,  0,  0,  0, 46,  0,  0],\n",
       "       [ 0,  1,  2,  0,  0,  0,  0,  0, 26,  0],\n",
       "       [ 0,  0,  0,  0,  0,  0,  0,  1,  0, 35]])"
      ]
     },
     "execution_count": 36,
     "metadata": {},
     "output_type": "execute_result"
    }
   ],
   "source": [
    "from sklearn.metrics import confusion_matrix\n",
    "matrix = confusion_matrix(y_test, pipe_predictions)\n",
    "matrix"
   ]
  },
  {
   "cell_type": "markdown",
   "id": "e81403c5",
   "metadata": {},
   "source": [
    "Lets improve visuals of the matrix but building a heatmap."
   ]
  },
  {
   "cell_type": "code",
   "execution_count": 37,
   "id": "81d7b7fa",
   "metadata": {},
   "outputs": [
    {
     "data": {
      "text/plain": [
       "Text(69.0, 0.5, 'Actual')"
      ]
     },
     "execution_count": 37,
     "metadata": {},
     "output_type": "execute_result"
    },
    {
     "data": {
      "image/png": "[encoded data removed]",
      "text/plain": [
       "<Figure size 720x504 with 2 Axes>"
      ]
     },
     "metadata": {
      "needs_background": "light"
     },
     "output_type": "display_data"
    }
   ],
   "source": [
    "import seaborn\n",
    "pyplot.figure(figsize=(10, 7))\n",
    "seaborn.heatmap(matrix, annot=True)\n",
    "pyplot.xlabel(\"Prediction\")\n",
    "pyplot.ylabel(\"Actual\")"
   ]
  },
  {
   "cell_type": "markdown",
   "id": "46e05dcc",
   "metadata": {},
   "source": [
    "## Saving the model\n",
    "Lets save the model for future uses using pickle"
   ]
  },
  {
   "cell_type": "code",
   "execution_count": 31,
   "id": "affffebf",
   "metadata": {},
   "outputs": [],
   "source": [
    "import pickle\n",
    "with open(\"lr-model.pickle\", \"wb\") as f:\n",
    "    pickle.dump(model, f)"
   ]
  }
 ],
 "metadata": {
  "kernelspec": {
   "display_name": "Python 3 (ipykernel)",
   "language": "python",
   "name": "python3"
  },
  "language_info": {
   "codemirror_mode": {
    "name": "ipython",
    "version": 3
   },
   "file_extension": ".py",
   "mimetype": "text/x-python",
   "name": "python",
   "nbconvert_exporter": "python",
   "pygments_lexer": "ipython3",
   "version": "3.9.7"
  }
 },
 "nbformat": 4,
 "nbformat_minor": 5
}
